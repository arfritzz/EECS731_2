{
 "cells": [
  {
   "cell_type": "markdown",
   "metadata": {},
   "source": [
    "## Trimming Player Line \n",
    "\n",
    "The goal of this notebook is to trim the PlayerLine catagory of data to use to develop a model. Some of the operations, such as removing stop words, are expensive. To avoid running the operations each time, I downloaded the results of the word trimming to a new file, `PlayerLine_trimmed.csv`.\n",
    "\n",
    "The steps in this file are taken from : https://towardsdatascience.com/nlp-for-beginners-cleaning-preprocessing-text-data-ae8e306bef0f"
   ]
  },
  {
   "cell_type": "code",
   "execution_count": 1,
   "metadata": {},
   "outputs": [],
   "source": [
    "import numpy as np\n",
    "import pandas as pd\n",
    "import random\n",
    "from sklearn.model_selection import train_test_split\n",
    "from sklearn.utils import shuffle\n",
    "from sklearn import tree"
   ]
  },
  {
   "cell_type": "code",
   "execution_count": 2,
   "metadata": {},
   "outputs": [],
   "source": [
    "import nltk\n",
    "# nltk.download('stopwords')\n",
    "# nltk.download('wordnet')\n",
    "from bs4 import BeautifulSoup\n",
    "import string \n",
    "from nltk.corpus import stopwords\n",
    "from nltk.tokenize import RegexpTokenizer \n",
    "from nltk.stem import WordNetLemmatizer \n",
    "from nltk.stem.porter import PorterStemmer"
   ]
  },
  {
   "cell_type": "code",
   "execution_count": 3,
   "metadata": {},
   "outputs": [],
   "source": [
    "data = pd.read_csv('~/Documents/EECS/EECS_731/HW/EECS731_2/data/1028_2124_bundle_archive/Shakespeare_data.csv')"
   ]
  },
  {
   "cell_type": "code",
   "execution_count": 4,
   "metadata": {},
   "outputs": [
    {
     "data": {
      "text/plain": [
       "Index(['Dataline', 'Play', 'PlayerLinenumber', 'ActSceneLine', 'Player',\n",
       "       'PlayerLine'],\n",
       "      dtype='object')"
      ]
     },
     "execution_count": 4,
     "metadata": {},
     "output_type": "execute_result"
    }
   ],
   "source": [
    "data.columns"
   ]
  },
  {
   "cell_type": "code",
   "execution_count": 5,
   "metadata": {},
   "outputs": [
    {
     "data": {
      "text/plain": [
       "Dataline              int64\n",
       "Play                 object\n",
       "PlayerLinenumber    float64\n",
       "ActSceneLine         object\n",
       "Player               object\n",
       "PlayerLine           object\n",
       "dtype: object"
      ]
     },
     "execution_count": 5,
     "metadata": {},
     "output_type": "execute_result"
    }
   ],
   "source": [
    "data.dtypes"
   ]
  },
  {
   "cell_type": "markdown",
   "metadata": {},
   "source": [
    "What if we made the player a number? So that we could talk about what players are saying what? \n",
    "What if we only looked at the major players... could count how many times they speak and only use the ones that pop up the most. "
   ]
  },
  {
   "cell_type": "markdown",
   "metadata": {},
   "source": [
    "Need to delete the columns where NaN is present for player. "
   ]
  },
  {
   "cell_type": "code",
   "execution_count": 6,
   "metadata": {},
   "outputs": [],
   "source": [
    "data = data.dropna()"
   ]
  },
  {
   "cell_type": "code",
   "execution_count": 7,
   "metadata": {},
   "outputs": [],
   "source": [
    "data = data.drop(columns=\"Dataline\")"
   ]
  },
  {
   "cell_type": "code",
   "execution_count": 8,
   "metadata": {
    "scrolled": false
   },
   "outputs": [
    {
     "data": {
      "text/html": [
       "<div>\n",
       "<style scoped>\n",
       "    .dataframe tbody tr th:only-of-type {\n",
       "        vertical-align: middle;\n",
       "    }\n",
       "\n",
       "    .dataframe tbody tr th {\n",
       "        vertical-align: top;\n",
       "    }\n",
       "\n",
       "    .dataframe thead th {\n",
       "        text-align: right;\n",
       "    }\n",
       "</style>\n",
       "<table border=\"1\" class=\"dataframe\">\n",
       "  <thead>\n",
       "    <tr style=\"text-align: right;\">\n",
       "      <th></th>\n",
       "      <th>Play</th>\n",
       "      <th>PlayerLinenumber</th>\n",
       "      <th>ActSceneLine</th>\n",
       "      <th>Player</th>\n",
       "      <th>PlayerLine</th>\n",
       "    </tr>\n",
       "  </thead>\n",
       "  <tbody>\n",
       "    <tr>\n",
       "      <th>3</th>\n",
       "      <td>Henry IV</td>\n",
       "      <td>1.0</td>\n",
       "      <td>1.1.1</td>\n",
       "      <td>KING HENRY IV</td>\n",
       "      <td>So shaken as we are, so wan with care,</td>\n",
       "    </tr>\n",
       "    <tr>\n",
       "      <th>4</th>\n",
       "      <td>Henry IV</td>\n",
       "      <td>1.0</td>\n",
       "      <td>1.1.2</td>\n",
       "      <td>KING HENRY IV</td>\n",
       "      <td>Find we a time for frighted peace to pant,</td>\n",
       "    </tr>\n",
       "    <tr>\n",
       "      <th>5</th>\n",
       "      <td>Henry IV</td>\n",
       "      <td>1.0</td>\n",
       "      <td>1.1.3</td>\n",
       "      <td>KING HENRY IV</td>\n",
       "      <td>And breathe short-winded accents of new broils</td>\n",
       "    </tr>\n",
       "    <tr>\n",
       "      <th>6</th>\n",
       "      <td>Henry IV</td>\n",
       "      <td>1.0</td>\n",
       "      <td>1.1.4</td>\n",
       "      <td>KING HENRY IV</td>\n",
       "      <td>To be commenced in strands afar remote.</td>\n",
       "    </tr>\n",
       "    <tr>\n",
       "      <th>7</th>\n",
       "      <td>Henry IV</td>\n",
       "      <td>1.0</td>\n",
       "      <td>1.1.5</td>\n",
       "      <td>KING HENRY IV</td>\n",
       "      <td>No more the thirsty entrance of this soil</td>\n",
       "    </tr>\n",
       "    <tr>\n",
       "      <th>...</th>\n",
       "      <td>...</td>\n",
       "      <td>...</td>\n",
       "      <td>...</td>\n",
       "      <td>...</td>\n",
       "      <td>...</td>\n",
       "    </tr>\n",
       "    <tr>\n",
       "      <th>111390</th>\n",
       "      <td>A Winters Tale</td>\n",
       "      <td>38.0</td>\n",
       "      <td>5.3.179</td>\n",
       "      <td>LEONTES</td>\n",
       "      <td>Is troth-plight to your daughter. Good Paulina,</td>\n",
       "    </tr>\n",
       "    <tr>\n",
       "      <th>111391</th>\n",
       "      <td>A Winters Tale</td>\n",
       "      <td>38.0</td>\n",
       "      <td>5.3.180</td>\n",
       "      <td>LEONTES</td>\n",
       "      <td>Lead us from hence, where we may leisurely</td>\n",
       "    </tr>\n",
       "    <tr>\n",
       "      <th>111392</th>\n",
       "      <td>A Winters Tale</td>\n",
       "      <td>38.0</td>\n",
       "      <td>5.3.181</td>\n",
       "      <td>LEONTES</td>\n",
       "      <td>Each one demand an answer to his part</td>\n",
       "    </tr>\n",
       "    <tr>\n",
       "      <th>111393</th>\n",
       "      <td>A Winters Tale</td>\n",
       "      <td>38.0</td>\n",
       "      <td>5.3.182</td>\n",
       "      <td>LEONTES</td>\n",
       "      <td>Perform'd in this wide gap of time since first</td>\n",
       "    </tr>\n",
       "    <tr>\n",
       "      <th>111394</th>\n",
       "      <td>A Winters Tale</td>\n",
       "      <td>38.0</td>\n",
       "      <td>5.3.183</td>\n",
       "      <td>LEONTES</td>\n",
       "      <td>We were dissever'd: hastily lead away.</td>\n",
       "    </tr>\n",
       "  </tbody>\n",
       "</table>\n",
       "<p>105152 rows × 5 columns</p>\n",
       "</div>"
      ],
      "text/plain": [
       "                  Play  PlayerLinenumber ActSceneLine         Player  \\\n",
       "3             Henry IV               1.0        1.1.1  KING HENRY IV   \n",
       "4             Henry IV               1.0        1.1.2  KING HENRY IV   \n",
       "5             Henry IV               1.0        1.1.3  KING HENRY IV   \n",
       "6             Henry IV               1.0        1.1.4  KING HENRY IV   \n",
       "7             Henry IV               1.0        1.1.5  KING HENRY IV   \n",
       "...                ...               ...          ...            ...   \n",
       "111390  A Winters Tale              38.0      5.3.179        LEONTES   \n",
       "111391  A Winters Tale              38.0      5.3.180        LEONTES   \n",
       "111392  A Winters Tale              38.0      5.3.181        LEONTES   \n",
       "111393  A Winters Tale              38.0      5.3.182        LEONTES   \n",
       "111394  A Winters Tale              38.0      5.3.183        LEONTES   \n",
       "\n",
       "                                             PlayerLine  \n",
       "3                So shaken as we are, so wan with care,  \n",
       "4            Find we a time for frighted peace to pant,  \n",
       "5        And breathe short-winded accents of new broils  \n",
       "6               To be commenced in strands afar remote.  \n",
       "7             No more the thirsty entrance of this soil  \n",
       "...                                                 ...  \n",
       "111390  Is troth-plight to your daughter. Good Paulina,  \n",
       "111391       Lead us from hence, where we may leisurely  \n",
       "111392            Each one demand an answer to his part  \n",
       "111393   Perform'd in this wide gap of time since first  \n",
       "111394           We were dissever'd: hastily lead away.  \n",
       "\n",
       "[105152 rows x 5 columns]"
      ]
     },
     "execution_count": 8,
     "metadata": {},
     "output_type": "execute_result"
    }
   ],
   "source": [
    "data"
   ]
  },
  {
   "cell_type": "markdown",
   "metadata": {},
   "source": [
    "#### Naming Issue \n",
    "In \"A Comedy of Errors\", there is ANTIPHOLUS OF SYRACUSE and ANTIPHOLUS OF EPHESUS and I think that that the ANTIPHOLUS part of the name got separated so we can delete all of thos cells with the entry for player as ANTIPHOLUS and rename the player columns that say OF EPHESUS and OF SYRACUSE  to ANTIPHOLUS OF SYRACUSE and ANTIPHOLUS OF EPHESUS\n",
    "\n",
    "In \"Love's Labour's Lost\" the character Don Armado is named DON in the `PlayerLine` column and ADRIANO DE ARMADO in the `Player` column. So, we can delete the cells for DON in the `PlayerLine` and rename in to Don Armando in the `Player` column. "
   ]
  },
  {
   "cell_type": "code",
   "execution_count": 9,
   "metadata": {},
   "outputs": [
    {
     "data": {
      "text/plain": [
       "3         KING HENRY IV\n",
       "4         KING HENRY IV\n",
       "5         KING HENRY IV\n",
       "6         KING HENRY IV\n",
       "7         KING HENRY IV\n",
       "              ...      \n",
       "111390          LEONTES\n",
       "111391          LEONTES\n",
       "111392          LEONTES\n",
       "111393          LEONTES\n",
       "111394          LEONTES\n",
       "Name: Player, Length: 104977, dtype: object"
      ]
     },
     "execution_count": 9,
     "metadata": {},
     "output_type": "execute_result"
    }
   ],
   "source": [
    "data.drop(data.loc[data['PlayerLine']==\"ANTIPHOLUS\"].index, inplace=True)\n",
    "data['Player'].replace({'OF SYRACUSE': 'ANTIPHOLUS OF SYRACUSE', 'OF EPHESUS': 'ANTIPHOLUS OF EPHESUS'})"
   ]
  },
  {
   "cell_type": "code",
   "execution_count": 10,
   "metadata": {},
   "outputs": [
    {
     "data": {
      "text/plain": [
       "3         KING HENRY IV\n",
       "4         KING HENRY IV\n",
       "5         KING HENRY IV\n",
       "6         KING HENRY IV\n",
       "7         KING HENRY IV\n",
       "              ...      \n",
       "111390          LEONTES\n",
       "111391          LEONTES\n",
       "111392          LEONTES\n",
       "111393          LEONTES\n",
       "111394          LEONTES\n",
       "Name: Player, Length: 104876, dtype: object"
      ]
     },
     "execution_count": 10,
     "metadata": {},
     "output_type": "execute_result"
    }
   ],
   "source": [
    "data.drop(data.loc[data['PlayerLine']==\"DON\"].index, inplace=True)\n",
    "data['Player'].replace({'ADRIANO DE ARMADO': 'DON ARMADO',})"
   ]
  },
  {
   "cell_type": "markdown",
   "metadata": {},
   "source": [
    "## Preprocessing text data\n",
    "\n",
    "### Goal \n",
    "\n",
    "My goal was to preprocess the text data to use it for analysis in the `ShakespeareAnalysis` notebook. I wanted to reason if a line was positive or negative and see if that could help increase the accuracy when identifying the player.  "
   ]
  },
  {
   "cell_type": "markdown",
   "metadata": {},
   "source": [
    "First, I removed punctuation from each of the lines. We really only care about important words, not the punction around those words.  "
   ]
  },
  {
   "cell_type": "code",
   "execution_count": 11,
   "metadata": {},
   "outputs": [],
   "source": [
    "def remove_punctuation(text): \n",
    "        no_punct = \"\".join([c for c in text if c not in string.punctuation])\n",
    "        return no_punct"
   ]
  },
  {
   "cell_type": "code",
   "execution_count": 12,
   "metadata": {},
   "outputs": [
    {
     "data": {
      "text/html": [
       "<div>\n",
       "<style scoped>\n",
       "    .dataframe tbody tr th:only-of-type {\n",
       "        vertical-align: middle;\n",
       "    }\n",
       "\n",
       "    .dataframe tbody tr th {\n",
       "        vertical-align: top;\n",
       "    }\n",
       "\n",
       "    .dataframe thead th {\n",
       "        text-align: right;\n",
       "    }\n",
       "</style>\n",
       "<table border=\"1\" class=\"dataframe\">\n",
       "  <thead>\n",
       "    <tr style=\"text-align: right;\">\n",
       "      <th></th>\n",
       "      <th>Play</th>\n",
       "      <th>PlayerLinenumber</th>\n",
       "      <th>ActSceneLine</th>\n",
       "      <th>Player</th>\n",
       "      <th>PlayerLine</th>\n",
       "    </tr>\n",
       "  </thead>\n",
       "  <tbody>\n",
       "    <tr>\n",
       "      <th>3</th>\n",
       "      <td>Henry IV</td>\n",
       "      <td>1.0</td>\n",
       "      <td>1.1.1</td>\n",
       "      <td>KING HENRY IV</td>\n",
       "      <td>So shaken as we are so wan with care</td>\n",
       "    </tr>\n",
       "    <tr>\n",
       "      <th>4</th>\n",
       "      <td>Henry IV</td>\n",
       "      <td>1.0</td>\n",
       "      <td>1.1.2</td>\n",
       "      <td>KING HENRY IV</td>\n",
       "      <td>Find we a time for frighted peace to pant</td>\n",
       "    </tr>\n",
       "    <tr>\n",
       "      <th>5</th>\n",
       "      <td>Henry IV</td>\n",
       "      <td>1.0</td>\n",
       "      <td>1.1.3</td>\n",
       "      <td>KING HENRY IV</td>\n",
       "      <td>And breathe shortwinded accents of new broils</td>\n",
       "    </tr>\n",
       "    <tr>\n",
       "      <th>6</th>\n",
       "      <td>Henry IV</td>\n",
       "      <td>1.0</td>\n",
       "      <td>1.1.4</td>\n",
       "      <td>KING HENRY IV</td>\n",
       "      <td>To be commenced in strands afar remote</td>\n",
       "    </tr>\n",
       "    <tr>\n",
       "      <th>7</th>\n",
       "      <td>Henry IV</td>\n",
       "      <td>1.0</td>\n",
       "      <td>1.1.5</td>\n",
       "      <td>KING HENRY IV</td>\n",
       "      <td>No more the thirsty entrance of this soil</td>\n",
       "    </tr>\n",
       "  </tbody>\n",
       "</table>\n",
       "</div>"
      ],
      "text/plain": [
       "       Play  PlayerLinenumber ActSceneLine         Player  \\\n",
       "3  Henry IV               1.0        1.1.1  KING HENRY IV   \n",
       "4  Henry IV               1.0        1.1.2  KING HENRY IV   \n",
       "5  Henry IV               1.0        1.1.3  KING HENRY IV   \n",
       "6  Henry IV               1.0        1.1.4  KING HENRY IV   \n",
       "7  Henry IV               1.0        1.1.5  KING HENRY IV   \n",
       "\n",
       "                                      PlayerLine  \n",
       "3           So shaken as we are so wan with care  \n",
       "4      Find we a time for frighted peace to pant  \n",
       "5  And breathe shortwinded accents of new broils  \n",
       "6         To be commenced in strands afar remote  \n",
       "7      No more the thirsty entrance of this soil  "
      ]
     },
     "execution_count": 12,
     "metadata": {},
     "output_type": "execute_result"
    }
   ],
   "source": [
    "data['PlayerLine'] = data['PlayerLine'].apply(lambda x: remove_punctuation(x))\n",
    "data.head()"
   ]
  },
  {
   "cell_type": "markdown",
   "metadata": {},
   "source": [
    "Here, I broke the strings into a list of words based on spaces. "
   ]
  },
  {
   "cell_type": "code",
   "execution_count": 13,
   "metadata": {},
   "outputs": [],
   "source": [
    "tokenizer = RegexpTokenizer(r'\\w+')"
   ]
  },
  {
   "cell_type": "code",
   "execution_count": 14,
   "metadata": {},
   "outputs": [
    {
     "data": {
      "text/plain": [
       "3        [so, shaken, as, we, are, so, wan, with, care]\n",
       "4     [find, we, a, time, for, frighted, peace, to, ...\n",
       "5     [and, breathe, shortwinded, accents, of, new, ...\n",
       "6        [to, be, commenced, in, strands, afar, remote]\n",
       "7     [no, more, the, thirsty, entrance, of, this, s...\n",
       "8     [shall, daub, her, lips, with, her, own, child...\n",
       "9     [nor, more, shall, trenching, war, channel, he...\n",
       "10    [nor, bruise, her, flowerets, with, the, armed...\n",
       "11           [of, hostile, paces, those, opposed, eyes]\n",
       "12    [which, like, the, meteors, of, a, troubled, h...\n",
       "Name: PlayerLine, dtype: object"
      ]
     },
     "execution_count": 14,
     "metadata": {},
     "output_type": "execute_result"
    }
   ],
   "source": [
    "data['PlayerLine'] = data['PlayerLine'].apply(lambda x: tokenizer.tokenize(x.lower()))\n",
    "data['PlayerLine'].head(10)"
   ]
  },
  {
   "cell_type": "markdown",
   "metadata": {},
   "source": [
    "Next, we must remove stop words. Stop words are words like \"the\" that get in the way of understanding the meaning of a line. "
   ]
  },
  {
   "cell_type": "code",
   "execution_count": 15,
   "metadata": {},
   "outputs": [],
   "source": [
    "def remove_stopwords(text): \n",
    "    words = [w for w in text if w not in stopwords.words('english')]\n",
    "    return words"
   ]
  },
  {
   "cell_type": "code",
   "execution_count": 16,
   "metadata": {},
   "outputs": [
    {
     "data": {
      "text/plain": [
       "3                             [shaken, wan, care]\n",
       "4             [find, time, frighted, peace, pant]\n",
       "5    [breathe, shortwinded, accents, new, broils]\n",
       "6              [commenced, strands, afar, remote]\n",
       "7                       [thirsty, entrance, soil]\n",
       "Name: PlayerLine, dtype: object"
      ]
     },
     "execution_count": 16,
     "metadata": {},
     "output_type": "execute_result"
    }
   ],
   "source": [
    "data['PlayerLine'] = data['PlayerLine'].apply(lambda x: remove_stopwords(x))\n",
    "data['PlayerLine'].head(5)"
   ]
  },
  {
   "cell_type": "markdown",
   "metadata": {},
   "source": [
    "Now, we cut off prefixes and suffixes. For example, a conjugated word like \"slept\" would just become sleep. This helps us reason about the words without caring about every tense the word could be in. "
   ]
  },
  {
   "cell_type": "code",
   "execution_count": 17,
   "metadata": {},
   "outputs": [],
   "source": [
    "lemmatizer = WordNetLemmatizer() \n",
    "\n",
    "def word_lemmatizer(text): \n",
    "    lem_text = [lemmatizer.lemmatize(i) for i in text]\n",
    "    return lem_text"
   ]
  },
  {
   "cell_type": "code",
   "execution_count": 18,
   "metadata": {},
   "outputs": [
    {
     "data": {
      "text/plain": [
       "3                             [shaken, wan, care]\n",
       "4             [find, time, frighted, peace, pant]\n",
       "5    [breathe, shortwinded, accents, new, broils]\n",
       "6              [commenced, strands, afar, remote]\n",
       "7                       [thirsty, entrance, soil]\n",
       "Name: PlayerLine, dtype: object"
      ]
     },
     "execution_count": 18,
     "metadata": {},
     "output_type": "execute_result"
    }
   ],
   "source": [
    "data['PlayerLine'].apply(lambda x : word_lemmatizer(x))\n",
    "data['PlayerLine'].head(5)"
   ]
  },
  {
   "cell_type": "markdown",
   "metadata": {},
   "source": [
    "Finally, you can add the data back together using the join function. "
   ]
  },
  {
   "cell_type": "code",
   "execution_count": 19,
   "metadata": {},
   "outputs": [],
   "source": [
    "stemmer = PorterStemmer()\n",
    "\n",
    "def word_stemmer(text): \n",
    "        stem_text = \" \".join([stemmer.stem(i) for i in text])\n",
    "        return stem_text"
   ]
  },
  {
   "cell_type": "code",
   "execution_count": 20,
   "metadata": {},
   "outputs": [
    {
     "data": {
      "text/plain": [
       "3                             [shaken, wan, care]\n",
       "4             [find, time, frighted, peace, pant]\n",
       "5    [breathe, shortwinded, accents, new, broils]\n",
       "6              [commenced, strands, afar, remote]\n",
       "7                       [thirsty, entrance, soil]\n",
       "Name: PlayerLine, dtype: object"
      ]
     },
     "execution_count": 20,
     "metadata": {},
     "output_type": "execute_result"
    }
   ],
   "source": [
    "data['PlayerLine'].apply(lambda x : word_stemmer(x))\n",
    "data['PlayerLine'].head(5)"
   ]
  },
  {
   "cell_type": "markdown",
   "metadata": {},
   "source": [
    "## Exporting data\n",
    "\n",
    "Here, after we finished trimming, I exported the data to a csv. I used the first csv when performing the analysis. "
   ]
  },
  {
   "cell_type": "code",
   "execution_count": 21,
   "metadata": {},
   "outputs": [],
   "source": [
    "data.to_csv('PlayerLine_trimmed_2.csv')"
   ]
  },
  {
   "cell_type": "markdown",
   "metadata": {},
   "source": [
    "There are 104876 rows of data. For Model training, we only want to use 80% of the data for training. I will create a subset of the data for training and a subset of the data for testing. Can use `data_train = data.sample(frac=0.8)` to get 80% of the data but then you can't get the other 20% for testing. "
   ]
  },
  {
   "cell_type": "code",
   "execution_count": 22,
   "metadata": {},
   "outputs": [],
   "source": [
    "data_shuf = shuffle(data)\n",
    "data_train = data_shuf[:84000]\n",
    "data_test = data_shuf[-21052:]"
   ]
  },
  {
   "cell_type": "code",
   "execution_count": 23,
   "metadata": {},
   "outputs": [
    {
     "data": {
      "text/html": [
       "<div>\n",
       "<style scoped>\n",
       "    .dataframe tbody tr th:only-of-type {\n",
       "        vertical-align: middle;\n",
       "    }\n",
       "\n",
       "    .dataframe tbody tr th {\n",
       "        vertical-align: top;\n",
       "    }\n",
       "\n",
       "    .dataframe thead th {\n",
       "        text-align: right;\n",
       "    }\n",
       "</style>\n",
       "<table border=\"1\" class=\"dataframe\">\n",
       "  <thead>\n",
       "    <tr style=\"text-align: right;\">\n",
       "      <th></th>\n",
       "      <th>Play</th>\n",
       "      <th>PlayerLinenumber</th>\n",
       "      <th>ActSceneLine</th>\n",
       "      <th>Player</th>\n",
       "      <th>PlayerLine</th>\n",
       "    </tr>\n",
       "  </thead>\n",
       "  <tbody>\n",
       "    <tr>\n",
       "      <th>16895</th>\n",
       "      <td>As you like it</td>\n",
       "      <td>36.0</td>\n",
       "      <td>2.7.183</td>\n",
       "      <td>AMIENS</td>\n",
       "      <td>[thou, art, seen]</td>\n",
       "    </tr>\n",
       "    <tr>\n",
       "      <th>110371</th>\n",
       "      <td>A Winters Tale</td>\n",
       "      <td>145.0</td>\n",
       "      <td>4.4.577</td>\n",
       "      <td>FLORIZEL</td>\n",
       "      <td>[good, camillo]</td>\n",
       "    </tr>\n",
       "    <tr>\n",
       "      <th>63004</th>\n",
       "      <td>Merchant of Venice</td>\n",
       "      <td>37.0</td>\n",
       "      <td>3.2.259</td>\n",
       "      <td>BASSANIO</td>\n",
       "      <td>[ever, blotted, paper, gentle, lady]</td>\n",
       "    </tr>\n",
       "    <tr>\n",
       "      <th>68185</th>\n",
       "      <td>A Midsummer nights dream</td>\n",
       "      <td>31.0</td>\n",
       "      <td>3.2.146</td>\n",
       "      <td>DEMETRIUS</td>\n",
       "      <td>[thou, holdst, thy, hand, let, kiss]</td>\n",
       "    </tr>\n",
       "    <tr>\n",
       "      <th>77634</th>\n",
       "      <td>Pericles</td>\n",
       "      <td>13.0</td>\n",
       "      <td>4.3.56</td>\n",
       "      <td>DIONYZA</td>\n",
       "      <td>[like, one, superstitiously]</td>\n",
       "    </tr>\n",
       "    <tr>\n",
       "      <th>...</th>\n",
       "      <td>...</td>\n",
       "      <td>...</td>\n",
       "      <td>...</td>\n",
       "      <td>...</td>\n",
       "      <td>...</td>\n",
       "    </tr>\n",
       "    <tr>\n",
       "      <th>61721</th>\n",
       "      <td>Merchant of Venice</td>\n",
       "      <td>15.0</td>\n",
       "      <td>1.3.30</td>\n",
       "      <td>SHYLOCK</td>\n",
       "      <td>[prophet, nazarite, conjured, devil]</td>\n",
       "    </tr>\n",
       "    <tr>\n",
       "      <th>67686</th>\n",
       "      <td>A Midsummer nights dream</td>\n",
       "      <td>3.0</td>\n",
       "      <td>2.2.33</td>\n",
       "      <td>OBERON</td>\n",
       "      <td>[thou, wakest, thy, dear]</td>\n",
       "    </tr>\n",
       "    <tr>\n",
       "      <th>1139</th>\n",
       "      <td>Henry IV</td>\n",
       "      <td>52.0</td>\n",
       "      <td>2.4.138</td>\n",
       "      <td>FALSTAFF</td>\n",
       "      <td>[call, thee, coward, ill, see, thee, damned, e...</td>\n",
       "    </tr>\n",
       "    <tr>\n",
       "      <th>50668</th>\n",
       "      <td>King Lear</td>\n",
       "      <td>70.0</td>\n",
       "      <td>2.4.245</td>\n",
       "      <td>KING LEAR</td>\n",
       "      <td>[plaguesore, embossed, carbuncle]</td>\n",
       "    </tr>\n",
       "    <tr>\n",
       "      <th>77175</th>\n",
       "      <td>Pericles</td>\n",
       "      <td>36.0</td>\n",
       "      <td>3.2.125</td>\n",
       "      <td>CERIMON</td>\n",
       "      <td>[lend, hands, next, chamber, bear]</td>\n",
       "    </tr>\n",
       "  </tbody>\n",
       "</table>\n",
       "<p>84000 rows × 5 columns</p>\n",
       "</div>"
      ],
      "text/plain": [
       "                            Play  PlayerLinenumber ActSceneLine     Player  \\\n",
       "16895             As you like it              36.0      2.7.183     AMIENS   \n",
       "110371            A Winters Tale             145.0      4.4.577   FLORIZEL   \n",
       "63004         Merchant of Venice              37.0      3.2.259   BASSANIO   \n",
       "68185   A Midsummer nights dream              31.0      3.2.146  DEMETRIUS   \n",
       "77634                   Pericles              13.0       4.3.56    DIONYZA   \n",
       "...                          ...               ...          ...        ...   \n",
       "61721         Merchant of Venice              15.0       1.3.30    SHYLOCK   \n",
       "67686   A Midsummer nights dream               3.0       2.2.33     OBERON   \n",
       "1139                    Henry IV              52.0      2.4.138   FALSTAFF   \n",
       "50668                  King Lear              70.0      2.4.245  KING LEAR   \n",
       "77175                   Pericles              36.0      3.2.125    CERIMON   \n",
       "\n",
       "                                               PlayerLine  \n",
       "16895                                   [thou, art, seen]  \n",
       "110371                                    [good, camillo]  \n",
       "63004                [ever, blotted, paper, gentle, lady]  \n",
       "68185                [thou, holdst, thy, hand, let, kiss]  \n",
       "77634                        [like, one, superstitiously]  \n",
       "...                                                   ...  \n",
       "61721                [prophet, nazarite, conjured, devil]  \n",
       "67686                           [thou, wakest, thy, dear]  \n",
       "1139    [call, thee, coward, ill, see, thee, damned, e...  \n",
       "50668                   [plaguesore, embossed, carbuncle]  \n",
       "77175                  [lend, hands, next, chamber, bear]  \n",
       "\n",
       "[84000 rows x 5 columns]"
      ]
     },
     "execution_count": 23,
     "metadata": {},
     "output_type": "execute_result"
    }
   ],
   "source": [
    "data_train"
   ]
  },
  {
   "cell_type": "markdown",
   "metadata": {},
   "source": [
    "### Mindless Musings\n",
    "\n",
    "The following are just mindless things I did when brainstorming for this project. I kept them in case I wanted to reference them in future projects. \n",
    "\n",
    "\n",
    "Lets just look at the play and the player to find the most popular player's for each play. You can then say, if I am in play A, this player will speak the most. "
   ]
  },
  {
   "cell_type": "code",
   "execution_count": 24,
   "metadata": {},
   "outputs": [],
   "source": [
    "play_player = data.drop(columns=\"PlayerLinenumber\")\n",
    "play_player = play_player.drop(columns=\"ActSceneLine\")\n",
    "play_player = play_player.drop(columns=\"PlayerLine\")\n",
    "play_player = play_player[play_player[\"Play\"] == \"Henry IV\"]"
   ]
  },
  {
   "cell_type": "code",
   "execution_count": 25,
   "metadata": {},
   "outputs": [
    {
     "data": {
      "text/html": [
       "<div>\n",
       "<style scoped>\n",
       "    .dataframe tbody tr th:only-of-type {\n",
       "        vertical-align: middle;\n",
       "    }\n",
       "\n",
       "    .dataframe tbody tr th {\n",
       "        vertical-align: top;\n",
       "    }\n",
       "\n",
       "    .dataframe thead th {\n",
       "        text-align: right;\n",
       "    }\n",
       "</style>\n",
       "<table border=\"1\" class=\"dataframe\">\n",
       "  <thead>\n",
       "    <tr style=\"text-align: right;\">\n",
       "      <th></th>\n",
       "      <th>Play</th>\n",
       "      <th>Player</th>\n",
       "    </tr>\n",
       "  </thead>\n",
       "  <tbody>\n",
       "    <tr>\n",
       "      <th>3</th>\n",
       "      <td>Henry IV</td>\n",
       "      <td>KING HENRY IV</td>\n",
       "    </tr>\n",
       "    <tr>\n",
       "      <th>4</th>\n",
       "      <td>Henry IV</td>\n",
       "      <td>KING HENRY IV</td>\n",
       "    </tr>\n",
       "    <tr>\n",
       "      <th>5</th>\n",
       "      <td>Henry IV</td>\n",
       "      <td>KING HENRY IV</td>\n",
       "    </tr>\n",
       "    <tr>\n",
       "      <th>6</th>\n",
       "      <td>Henry IV</td>\n",
       "      <td>KING HENRY IV</td>\n",
       "    </tr>\n",
       "    <tr>\n",
       "      <th>7</th>\n",
       "      <td>Henry IV</td>\n",
       "      <td>KING HENRY IV</td>\n",
       "    </tr>\n",
       "    <tr>\n",
       "      <th>...</th>\n",
       "      <td>...</td>\n",
       "      <td>...</td>\n",
       "    </tr>\n",
       "    <tr>\n",
       "      <th>3199</th>\n",
       "      <td>Henry IV</td>\n",
       "      <td>KING HENRY IV</td>\n",
       "    </tr>\n",
       "    <tr>\n",
       "      <th>3200</th>\n",
       "      <td>Henry IV</td>\n",
       "      <td>KING HENRY IV</td>\n",
       "    </tr>\n",
       "    <tr>\n",
       "      <th>3201</th>\n",
       "      <td>Henry IV</td>\n",
       "      <td>KING HENRY IV</td>\n",
       "    </tr>\n",
       "    <tr>\n",
       "      <th>3202</th>\n",
       "      <td>Henry IV</td>\n",
       "      <td>KING HENRY IV</td>\n",
       "    </tr>\n",
       "    <tr>\n",
       "      <th>3203</th>\n",
       "      <td>Henry IV</td>\n",
       "      <td>KING HENRY IV</td>\n",
       "    </tr>\n",
       "  </tbody>\n",
       "</table>\n",
       "<p>3044 rows × 2 columns</p>\n",
       "</div>"
      ],
      "text/plain": [
       "          Play         Player\n",
       "3     Henry IV  KING HENRY IV\n",
       "4     Henry IV  KING HENRY IV\n",
       "5     Henry IV  KING HENRY IV\n",
       "6     Henry IV  KING HENRY IV\n",
       "7     Henry IV  KING HENRY IV\n",
       "...        ...            ...\n",
       "3199  Henry IV  KING HENRY IV\n",
       "3200  Henry IV  KING HENRY IV\n",
       "3201  Henry IV  KING HENRY IV\n",
       "3202  Henry IV  KING HENRY IV\n",
       "3203  Henry IV  KING HENRY IV\n",
       "\n",
       "[3044 rows x 2 columns]"
      ]
     },
     "execution_count": 25,
     "metadata": {},
     "output_type": "execute_result"
    }
   ],
   "source": [
    "play_player"
   ]
  },
  {
   "cell_type": "markdown",
   "metadata": {},
   "source": [
    " `count_player` is a list of the most common Players in the Shakespear Plays. Could say `value_counts(normalize=True)` to normalize all the values.  "
   ]
  },
  {
   "cell_type": "code",
   "execution_count": 26,
   "metadata": {},
   "outputs": [
    {
     "data": {
      "text/plain": [
       "GLOUCESTER        1433\n",
       "HAMLET            1197\n",
       "IAGO               888\n",
       "FALSTAFF           869\n",
       "KING HENRY V       818\n",
       "                  ... \n",
       "HORTENSIA            1\n",
       "Outlaws              1\n",
       "HERNIA               1\n",
       "Third Musician       1\n",
       "All The Lords        1\n",
       "Name: Player, Length: 917, dtype: int64"
      ]
     },
     "execution_count": 26,
     "metadata": {},
     "output_type": "execute_result"
    }
   ],
   "source": [
    "count_player = data_train['Player'].value_counts()\n",
    "count_player"
   ]
  },
  {
   "cell_type": "markdown",
   "metadata": {},
   "source": [
    "We can also put the counts into bins to better see the distrubtion of how many times a player speaks. "
   ]
  },
  {
   "cell_type": "code",
   "execution_count": 27,
   "metadata": {},
   "outputs": [
    {
     "data": {
      "text/plain": [
       "(-0.433, 72.6]      614\n",
       "(72.6, 144.2]       110\n",
       "(144.2, 215.8]       70\n",
       "(215.8, 287.4]       58\n",
       "(287.4, 359.0]       16\n",
       "(502.2, 573.8]       11\n",
       "(430.6, 502.2]       11\n",
       "(359.0, 430.6]       10\n",
       "(645.4, 717.0]        6\n",
       "(573.8, 645.4]        5\n",
       "(860.2, 931.8]        2\n",
       "(717.0, 788.6]        1\n",
       "(788.6, 860.2]        1\n",
       "(1146.6, 1218.2]      1\n",
       "(1361.4, 1433.0]      1\n",
       "(1289.8, 1361.4]      0\n",
       "(931.8, 1003.4]       0\n",
       "(1003.4, 1075.0]      0\n",
       "(1075.0, 1146.6]      0\n",
       "(1218.2, 1289.8]      0\n",
       "Name: Player, dtype: int64"
      ]
     },
     "execution_count": 27,
     "metadata": {},
     "output_type": "execute_result"
    }
   ],
   "source": [
    "count_player.value_counts(bins=20)"
   ]
  },
  {
   "cell_type": "markdown",
   "metadata": {},
   "source": [
    "We see that most people are mentioned between 0 and 91.5 times. I guess we could make a model that says, in any shakespeare play, there will be x players who speak more than once, and y players who only speak once. "
   ]
  }
 ],
 "metadata": {
  "kernelspec": {
   "display_name": "Python 3",
   "language": "python",
   "name": "python3"
  },
  "language_info": {
   "codemirror_mode": {
    "name": "ipython",
    "version": 3
   },
   "file_extension": ".py",
   "mimetype": "text/x-python",
   "name": "python",
   "nbconvert_exporter": "python",
   "pygments_lexer": "ipython3",
   "version": "3.8.3"
  }
 },
 "nbformat": 4,
 "nbformat_minor": 4
}
